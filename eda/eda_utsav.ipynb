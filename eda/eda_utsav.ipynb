{
 "cells": [
  {
   "cell_type": "code",
   "execution_count": 1,
   "metadata": {},
   "outputs": [
    {
     "data": {
      "text/plain": [
       "(6543, 3232)"
      ]
     },
     "execution_count": 1,
     "metadata": {},
     "output_type": "execute_result"
    }
   ],
   "source": [
    "import pandas as pd\n",
    "import numpy as np\n",
    "\n",
    "\n",
    "\n"
   ]
  },
  {
   "cell_type": "code",
   "execution_count": 90,
   "metadata": {},
   "outputs": [],
   "source": [
    "df = pd.read_csv('./data/Most-Recent-Cohorts-Institution.csv', low_memory=False)"
   ]
  },
  {
   "cell_type": "code",
   "execution_count": 91,
   "metadata": {},
   "outputs": [],
   "source": [
    "df = df.replace('PrivacySuppressed', np.nan)"
   ]
  },
  {
   "cell_type": "code",
   "execution_count": 92,
   "metadata": {},
   "outputs": [
    {
     "data": {
      "text/plain": [
       "(6543, 3232)"
      ]
     },
     "execution_count": 92,
     "metadata": {},
     "output_type": "execute_result"
    }
   ],
   "source": [
    "df.shape"
   ]
  },
  {
   "cell_type": "code",
   "execution_count": 93,
   "metadata": {},
   "outputs": [],
   "source": [
    "nan_percentage = df.isna().mean()\n",
    "\n",
    "# Filter out columns with more than 30% NaN values\n",
    "df_cleaned = df.loc[:, nan_percentage <= 0.3].copy()\n"
   ]
  },
  {
   "cell_type": "code",
   "execution_count": 94,
   "metadata": {},
   "outputs": [
    {
     "data": {
      "text/plain": [
       "(6543, 689)"
      ]
     },
     "execution_count": 94,
     "metadata": {},
     "output_type": "execute_result"
    }
   ],
   "source": [
    "df_cleaned.shape"
   ]
  },
  {
   "cell_type": "code",
   "execution_count": 95,
   "metadata": {},
   "outputs": [
    {
     "name": "stdout",
     "output_type": "stream",
     "text": [
      "363\n",
      "15\n",
      "311\n"
     ]
    }
   ],
   "source": [
    "print(len(df_cleaned.columns[df_cleaned.dtypes.values == np.dtype('float64')]))\n",
    "print(len(df_cleaned.columns[df_cleaned.dtypes.values == np.dtype('int64')]))\n",
    "print(len(df_cleaned.columns[df_cleaned.dtypes.values == np.dtype('object')]))"
   ]
  },
  {
   "cell_type": "code",
   "execution_count": 96,
   "metadata": {},
   "outputs": [],
   "source": [
    "err_cols = set()\n",
    "for col in df_cleaned.columns[df_cleaned.dtypes.values == np.dtype('object')]:\n",
    "    try:\n",
    "        pd.to_numeric(df_cleaned[col], errors='raise')\n",
    "    except:\n",
    "        err_cols.add(col)\n"
   ]
  },
  {
   "cell_type": "code",
   "execution_count": 97,
   "metadata": {},
   "outputs": [],
   "source": [
    "for column in df_cleaned.columns[df_cleaned.dtypes.values == np.dtype('object')]:\n",
    "    if column not in err_cols:\n",
    "        df_cleaned.loc[:, column] = pd.to_numeric(df_cleaned[column], errors='coerce')\n"
   ]
  },
  {
   "cell_type": "code",
   "execution_count": 101,
   "metadata": {},
   "outputs": [
    {
     "data": {
      "text/plain": [
       "Index(['INSTNM', 'CITY', 'STABBR', 'ZIP', 'ACCREDAGENCY', 'INSTURL', 'NPCURL',\n",
       "       'SEPAR_DT_MDN', 'T4APPROVALDATE', 'ACCREDCODE', 'BBRR1_FED_UG_DFLT',\n",
       "       'BBRR1_FED_UG_DLNQ', 'BBRR1_FED_UG_FBR', 'BBRR1_FED_UG_DFR',\n",
       "       'BBRR1_FED_UG_NOPROG', 'BBRR1_FED_UG_MAKEPROG',\n",
       "       'BBRR1_FED_UG_PAIDINFULL', 'BBRR1_FED_UG_DISCHARGE',\n",
       "       'BBRR2_FED_UG_DFLT', 'BBRR2_FED_UG_DLNQ', 'BBRR2_FED_UG_FBR',\n",
       "       'BBRR2_FED_UG_DFR', 'BBRR2_FED_UG_NOPROG', 'BBRR2_FED_UG_MAKEPROG',\n",
       "       'BBRR2_FED_UG_PAIDINFULL', 'BBRR2_FED_UG_DISCHARGE',\n",
       "       'BBRR2_FED_UGCOMP_FBR', 'BBRR2_FED_UGCOMP_NOPROG', 'FEDSCHCD',\n",
       "       'BBRR3_FED_UG_DFLT', 'BBRR3_FED_UG_DLNQ', 'BBRR3_FED_UG_FBR',\n",
       "       'BBRR3_FED_UG_DFR', 'BBRR3_FED_UG_NOPROG', 'BBRR3_FED_UG_MAKEPROG',\n",
       "       'BBRR3_FED_UG_PAIDINFULL', 'BBRR3_FED_UG_DISCHARGE',\n",
       "       'BBRR3_FED_UGCOMP_FBR', 'BBRR3_FED_UGCOMP_DFR',\n",
       "       'BBRR3_FED_UGCOMP_NOPROG', 'BBRR3_FED_UGCOMP_MAKEPROG',\n",
       "       'BBRR3_FED_UGCOMP_PAIDINFULL', 'BBRR4_FED_UG_DFLT', 'BBRR4_FED_UG_DLNQ',\n",
       "       'BBRR4_FED_UG_FBR', 'BBRR4_FED_UG_DFR', 'BBRR4_FED_UG_NOPROG',\n",
       "       'BBRR4_FED_UG_MAKEPROG', 'BBRR4_FED_UG_PAIDINFULL',\n",
       "       'BBRR4_FED_UG_DISCHARGE', 'BBRR4_FED_UGCOMP_DFLT',\n",
       "       'BBRR4_FED_UGCOMP_FBR', 'BBRR4_FED_UGCOMP_DFR',\n",
       "       'BBRR4_FED_UGCOMP_NOPROG', 'BBRR4_FED_UGCOMP_MAKEPROG',\n",
       "       'BBRR4_FED_UGCOMP_PAIDINFULL', 'BBRR4_FED_DEP_FBR', 'CONTROL_PEPS',\n",
       "       'ADDR'],\n",
       "      dtype='object')"
      ]
     },
     "execution_count": 101,
     "metadata": {},
     "output_type": "execute_result"
    }
   ],
   "source": [
    "df_cleaned.columns[df_cleaned.dtypes.values == np.dtype('object')]"
   ]
  },
  {
   "cell_type": "code",
   "execution_count": 108,
   "metadata": {},
   "outputs": [
    {
     "data": {
      "text/plain": [
       "0.00      1423\n",
       "<=0.02     936\n",
       "<=0.05     874\n",
       "<=0.01     787\n",
       "<=0.10     520\n",
       "<=0.20     421\n",
       "0.01       117\n",
       "Name: BBRR1_FED_UG_DFLT, dtype: int64"
      ]
     },
     "execution_count": 108,
     "metadata": {},
     "output_type": "execute_result"
    }
   ],
   "source": [
    "# Borrower-Based Repayment Rate on Federal Loans: \n",
    "# BBRR[YR]_[LOAN]_[GROUP]_[STATUS]\n",
    "# [YR]=1, 2, 3, or 4\n",
    "# [STATUS]:\n",
    "# DFTL - Default - Not paid for 360+ days\n",
    "# DLNQ - Delinquent - Not paying for 31 to 360 days\n",
    "# FBR - Forbearance - Temporary stop\n",
    "# DFR - Deferment \n",
    "# NOPROG - Not making progress\n",
    "# MAKEPROG - Making progress\n",
    "# PAIDINFULL - Paid in full\n",
    "# Discharged - Discharged - obligation to pay removed\n",
    "\n",
    "# questionable_cols = ['BBRR1_FED_UG_DFLT', 'BBRR1_FED_UG_DLNQ', '']\n",
    "# val_cat_cols = ['ACCREDAGENCY', 'ACCREDCODE']\n",
    "# dates = ['SEPAR_DT_MDN', 'T4APPROVALDATE']\n",
    "\n",
    "df_cleaned['BBRR1_FED_UG_DFLT'].value_counts()"
   ]
  },
  {
   "cell_type": "code",
   "execution_count": null,
   "metadata": {},
   "outputs": [],
   "source": []
  }
 ],
 "metadata": {
  "kernelspec": {
   "display_name": "Python 3",
   "language": "python",
   "name": "python3"
  },
  "language_info": {
   "codemirror_mode": {
    "name": "ipython",
    "version": 3
   },
   "file_extension": ".py",
   "mimetype": "text/x-python",
   "name": "python",
   "nbconvert_exporter": "python",
   "pygments_lexer": "ipython3",
   "version": "3.10.4"
  }
 },
 "nbformat": 4,
 "nbformat_minor": 2
}
