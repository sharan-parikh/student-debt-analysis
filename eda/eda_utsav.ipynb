{
 "cells": [
  {
   "cell_type": "code",
   "execution_count": 50,
   "metadata": {},
   "outputs": [],
   "source": [
    "import numpy as np\n",
    "import pandas as pd\n",
    "import matplotlib.pyplot as plt\n",
    "import seaborn as sns"
   ]
  },
  {
   "cell_type": "code",
   "execution_count": 51,
   "metadata": {},
   "outputs": [],
   "source": [
    "DATA_DIR = '../data/'\n",
    "df = pd.read_csv(DATA_DIR+'Most-Recent-Cohorts-Institution.csv', low_memory=False)"
   ]
  },
  {
   "cell_type": "code",
   "execution_count": 52,
   "metadata": {},
   "outputs": [],
   "source": [
    "df = df.replace('PrivacySuppressed', np.nan)"
   ]
  },
  {
   "cell_type": "code",
   "execution_count": 53,
   "metadata": {},
   "outputs": [
    {
     "data": {
      "text/plain": [
       "(6543, 3232)"
      ]
     },
     "execution_count": 53,
     "metadata": {},
     "output_type": "execute_result"
    }
   ],
   "source": [
    "df.shape"
   ]
  },
  {
   "cell_type": "code",
   "execution_count": 54,
   "metadata": {},
   "outputs": [],
   "source": [
    "nan_percentage = df.isna().mean()\n",
    "\n",
    "# Filter out columns with more than 30% NaN values\n",
    "df_cleaned = df.loc[:, nan_percentage <= 0.3].copy()\n"
   ]
  },
  {
   "cell_type": "code",
   "execution_count": 55,
   "metadata": {},
   "outputs": [
    {
     "data": {
      "text/plain": [
       "(6543, 689)"
      ]
     },
     "execution_count": 55,
     "metadata": {},
     "output_type": "execute_result"
    }
   ],
   "source": [
    "df_cleaned.shape"
   ]
  },
  {
   "cell_type": "code",
   "execution_count": 56,
   "metadata": {},
   "outputs": [
    {
     "name": "stdout",
     "output_type": "stream",
     "text": [
      "363\n",
      "15\n",
      "311\n"
     ]
    }
   ],
   "source": [
    "print(len(df_cleaned.columns[df_cleaned.dtypes.values == np.dtype('float64')]))\n",
    "print(len(df_cleaned.columns[df_cleaned.dtypes.values == np.dtype('int64')]))\n",
    "print(len(df_cleaned.columns[df_cleaned.dtypes.values == np.dtype('object')]))"
   ]
  },
  {
   "cell_type": "code",
   "execution_count": 57,
   "metadata": {},
   "outputs": [],
   "source": [
    "# Find columns which cannot be coerced to object dtype. \n",
    "# These are actual categorical columns of potential interest.\n",
    "err_cols = set()\n",
    "for col in df_cleaned.columns[df_cleaned.dtypes.values == np.dtype('object')]:\n",
    "    try:\n",
    "        pd.to_numeric(df_cleaned[col], errors='raise')\n",
    "    except:\n",
    "        err_cols.add(col)\n"
   ]
  },
  {
   "cell_type": "code",
   "execution_count": 58,
   "metadata": {},
   "outputs": [],
   "source": [
    "# Coerce whatever columns which can be coerced. These are numeric columns.\n",
    "for column in df_cleaned.columns[df_cleaned.dtypes.values == np.dtype('object')]:\n",
    "    if column not in err_cols:\n",
    "        df_cleaned.loc[:, column] = pd.to_numeric(df_cleaned[column], errors='coerce')\n"
   ]
  },
  {
   "cell_type": "code",
   "execution_count": 59,
   "metadata": {},
   "outputs": [
    {
     "name": "stdout",
     "output_type": "stream",
     "text": [
      "615\n",
      "15\n",
      "59\n"
     ]
    }
   ],
   "source": [
    "print(len(df_cleaned.columns[df_cleaned.dtypes.values == np.dtype('float64')]))\n",
    "print(len(df_cleaned.columns[df_cleaned.dtypes.values == np.dtype('int64')]))\n",
    "print(len(df_cleaned.columns[df_cleaned.dtypes.values == np.dtype('object')]))"
   ]
  },
  {
   "cell_type": "code",
   "execution_count": 60,
   "metadata": {},
   "outputs": [],
   "source": [
    "# Borrower-Based Repayment Rate on Federal Loans: \n",
    "# BBRR[YR]_[LOAN]_[GROUP]_[STATUS]\n",
    "# [YR]=1, 2, 3, or 4\n",
    "# [STATUS]:\n",
    "# DFTL - Default - Not paid for 360+ days\n",
    "# DLNQ - Delinquent - Not paying for 31 to 360 days\n",
    "# FBR - Forbearance - Temporary stop\n",
    "# DFR - Deferment \n",
    "# NOPROG - Not making progress\n",
    "# MAKEPROG - Making progress\n",
    "# PAIDINFULL - Paid in full\n",
    "# Discharged - Discharged - obligation to pay removed\n",
    "# GROUP - UG, GR, UGCOMP. UGNOCOMP, GRCOMP, GRNOCOMP\n",
    "# comp means completion \n",
    "# more info @ page 33-34\n",
    "\n",
    "# questionable_cols = ['FEDSCHCD']\n",
    "# ACCREDAGENCY <-- str to cat\n",
    "\n",
    "# val_cat_cols = ['ACCREDAGENCY', 'ACCREDCODE']\n",
    "# dates = ['SEPAR_DT_MDN', 'T4APPROVALDATE']\n",
    "# ACCREDCODE is the code for ACCREDAGENCY, so one can be safely dropped\n",
    "# IDS = ['UNITID']\n",
    "# drop col = ['MDCOST_ALL', 'MDEARN_ALL'] # <== value is 16007 and 38461 respectively for all rows!\n"
   ]
  },
  {
   "cell_type": "code",
   "execution_count": 61,
   "metadata": {},
   "outputs": [],
   "source": [
    "num_cols = set(df_cleaned.columns[df_cleaned.dtypes.values == np.dtype('float64')])\n",
    "cat_cols = set(df_cleaned.columns[df_cleaned.dtypes.values == np.dtype('object')]) | set(df_cleaned.columns[df_cleaned.dtypes.values == np.dtype('int64')])\n",
    "\n",
    "cat_cols_to_drop = set([\n",
    "    'FEDSCHCD', 'MDCO1ST_ALL', 'MDEARN_ALL',# no idea what these are\n",
    "    'ACCREDAGENCY',                         # duplicate of ACCREDCODE\n",
    "    'SEPAR_DT_MDN', 'T4APPROVALDATE',       # dates\n",
    "    'INSTURL', 'NPCURL',                    # urls\n",
    "    'UNITID',                               # ID column\n",
    "    'ADDR', 'ZIP',                          # institute address\n",
    "    'INSTNM'                                # institute name\n",
    "])\n",
    "cat_cols -= cat_cols_to_drop\n",
    "cat_cols = [c for c in cat_cols if not c.startswith('BBRR')] # dropping BBRR for now\n",
    "num_cols = [c for c in num_cols if not c.startswith('BBRR')]"
   ]
  },
  {
   "cell_type": "code",
   "execution_count": 62,
   "metadata": {},
   "outputs": [],
   "source": [
    "# fill all num cols by median values\n",
    "for column in df_cleaned[num_cols].columns:\n",
    "    median_value = df_cleaned[column].median()\n",
    "    df_cleaned[column].fillna(median_value, inplace=True)\n",
    "\n",
    "# fill all cat cols by most frequent values\n",
    "for column in df_cleaned[cat_cols].columns:\n",
    "    mode_value = df_cleaned[column].mode()[0]\n",
    "    df_cleaned[column].fillna(mode_value, inplace=True)"
   ]
  },
  {
   "cell_type": "code",
   "execution_count": 63,
   "metadata": {},
   "outputs": [],
   "source": [
    "df_cleaned = df_cleaned[num_cols + cat_cols]"
   ]
  },
  {
   "cell_type": "code",
   "execution_count": 65,
   "metadata": {},
   "outputs": [
    {
     "data": {
      "text/plain": [
       "0"
      ]
     },
     "execution_count": 65,
     "metadata": {},
     "output_type": "execute_result"
    }
   ],
   "source": [
    "df_cleaned.isna().sum().sum()"
   ]
  },
  {
   "cell_type": "code",
   "execution_count": 16,
   "metadata": {},
   "outputs": [],
   "source": [
    "# target column = 'DEBT_MDN'"
   ]
  },
  {
   "cell_type": "code",
   "execution_count": 17,
   "metadata": {},
   "outputs": [
    {
     "data": {
      "image/png": "[encoded data removed]",
      "text/plain": [
       "<Figure size 360x360 with 1 Axes>"
      ]
     },
     "metadata": {
      "needs_background": "light"
     },
     "output_type": "display_data"
    }
   ],
   "source": [
    "# df_cleaned['COMP_ORIG_YR4_RT'].plot.hist()\n",
    "plt.figure(figsize=(5, 5))  # Set the figure size\n",
    "sns.violinplot(data=df_cleaned, y='COMP_ORIG_YR4_RT', color='skyblue')\n",
    "plt.title(f'Box Plot for COMP_ORIG_YR4_RT')\n",
    "plt.show()"
   ]
  },
  {
   "cell_type": "code",
   "execution_count": 18,
   "metadata": {},
   "outputs": [
    {
     "data": {
      "text/plain": [
       "<AxesSubplot:ylabel='Frequency'>"
      ]
     },
     "execution_count": 18,
     "metadata": {},
     "output_type": "execute_result"
    },
    {
     "data": {
      "image/png": "[encoded data removed]",
      "text/plain": [
       "<Figure size 432x288 with 1 Axes>"
      ]
     },
     "metadata": {
      "needs_background": "light"
     },
     "output_type": "display_data"
    }
   ],
   "source": [
    "df['TUITIONFEE_OUT'].plot.hist()"
   ]
  },
  {
   "cell_type": "code",
   "execution_count": 19,
   "metadata": {},
   "outputs": [
    {
     "data": {
      "text/plain": [
       "2756"
      ]
     },
     "execution_count": 19,
     "metadata": {},
     "output_type": "execute_result"
    }
   ],
   "source": [
    "df['TUITIONFEE_OUT'].isna().sum()"
   ]
  },
  {
   "cell_type": "code",
   "execution_count": 20,
   "metadata": {},
   "outputs": [
    {
     "data": {
      "text/plain": [
       "3168"
      ]
     },
     "execution_count": 20,
     "metadata": {},
     "output_type": "execute_result"
    }
   ],
   "source": [
    "df['ROOMBOARD_OFF'].isna().sum()"
   ]
  },
  {
   "cell_type": "code",
   "execution_count": 21,
   "metadata": {},
   "outputs": [
    {
     "data": {
      "text/plain": [
       "0       16600.0\n",
       "1       15832.0\n",
       "2       13385.0\n",
       "3       13905.0\n",
       "4       17500.0\n",
       "         ...   \n",
       "6538    19500.0\n",
       "6539    19500.0\n",
       "6540    19500.0\n",
       "6541    19500.0\n",
       "6542     9500.0\n",
       "Name: DEBT_MDN, Length: 6543, dtype: float64"
      ]
     },
     "execution_count": 21,
     "metadata": {},
     "output_type": "execute_result"
    }
   ],
   "source": [
    "df_cleaned['DEBT_MDN']"
   ]
  },
  {
   "cell_type": "code",
   "execution_count": 22,
   "metadata": {},
   "outputs": [],
   "source": [
    "df_cleaned.to_csv(DATA_DIR+'cleaned.csv', index=False)\n"
   ]
  },
  {
   "cell_type": "code",
   "execution_count": null,
   "metadata": {},
   "outputs": [],
   "source": []
  }
 ],
 "metadata": {
  "kernelspec": {
   "display_name": "Python 3",
   "language": "python",
   "name": "python3"
  },
  "language_info": {
   "codemirror_mode": {
    "name": "ipython",
    "version": 3
   },
   "file_extension": ".py",
   "mimetype": "text/x-python",
   "name": "python",
   "nbconvert_exporter": "python",
   "pygments_lexer": "ipython3",
   "version": "3.10.4"
  }
 },
 "nbformat": 4,
 "nbformat_minor": 2
}
