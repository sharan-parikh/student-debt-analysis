{
 "cells": [
  {
   "cell_type": "code",
   "execution_count": 77,
   "metadata": {},
   "outputs": [],
   "source": [
    "import numpy as np\n",
    "import pandas as pd\n",
    "\n",
    "from sklearn.model_selection import train_test_split, cross_validate\n",
    "from sklearn.metrics import (\n",
    "    r2_score, mean_absolute_error, \n",
    "    mean_absolute_percentage_error, \n",
    "    mean_squared_error\n",
    ")\n",
    "\n",
    "from catboost import CatBoostRegressor\n",
    "\n",
    "\n",
    "import matplotlib.pyplot as plt\n",
    "import seaborn as sns"
   ]
  },
  {
   "cell_type": "code",
   "execution_count": 78,
   "metadata": {},
   "outputs": [],
   "source": [
    "DATA_DIR = '../data/'\n",
    "df = pd.read_csv(DATA_DIR+'cleaned.csv', low_memory=False)"
   ]
  },
  {
   "cell_type": "code",
   "execution_count": 79,
   "metadata": {},
   "outputs": [
    {
     "name": "stdout",
     "output_type": "stream",
     "text": [
      "<class 'pandas.core.frame.DataFrame'>\n",
      "RangeIndex: 6543 entries, 0 to 6542\n",
      "Columns: 595 entries, FAMINC_IND to HIGHDEG\n",
      "dtypes: float64(578), int64(13), object(4)\n",
      "memory usage: 29.7+ MB\n"
     ]
    }
   ],
   "source": [
    "df.info()"
   ]
  },
  {
   "cell_type": "code",
   "execution_count": 80,
   "metadata": {},
   "outputs": [],
   "source": [
    "labels = df['DEBT_MDN']"
   ]
  },
  {
   "cell_type": "code",
   "execution_count": 83,
   "metadata": {},
   "outputs": [
    {
     "data": {
      "text/plain": [
       "564"
      ]
     },
     "execution_count": 83,
     "metadata": {},
     "output_type": "execute_result"
    }
   ],
   "source": [
    "# Need to remove all columns with DEBT in them as they are all valid targets which compose our label DEBT_MDN\n",
    "to_drop = [c for c in df.columns if 'DEBT' in c]\n",
    "df = df.drop(columns=to_drop) \n",
    "len(df.columns)"
   ]
  },
  {
   "cell_type": "code",
   "execution_count": 84,
   "metadata": {},
   "outputs": [],
   "source": [
    "num_cols = set(df.columns[df.dtypes.values == np.dtype('float64')])\n",
    "cat_cols = set(df.columns[df.dtypes.values == np.dtype('object')]) | set(df.columns[df.dtypes.values == np.dtype('int64')])\n",
    "cat_indices = [df.columns.get_loc(c) for c in cat_cols if c in df.columns]\n"
   ]
  },
  {
   "cell_type": "code",
   "execution_count": 86,
   "metadata": {},
   "outputs": [
    {
     "name": "stdout",
     "output_type": "stream",
     "text": [
      "17\n",
      "547\n"
     ]
    }
   ],
   "source": [
    "print(len(cat_cols))\n",
    "print(len(num_cols))"
   ]
  },
  {
   "cell_type": "code",
   "execution_count": 87,
   "metadata": {},
   "outputs": [],
   "source": [
    "X_train, X_test, y_train, y_test = train_test_split(df, labels, test_size=0.25, random_state=1234)\n"
   ]
  },
  {
   "cell_type": "code",
   "execution_count": 88,
   "metadata": {},
   "outputs": [
    {
     "data": {
      "text/plain": [
       "<catboost.core.CatBoostRegressor at 0x21c0b1767a0>"
      ]
     },
     "execution_count": 88,
     "metadata": {},
     "output_type": "execute_result"
    }
   ],
   "source": [
    "cat_reg = CatBoostRegressor(verbose=0, task_type=\"GPU\") # task_type=\"GPU\"\n",
    "cat_reg.fit(X_train, y_train, cat_features=cat_indices)\n"
   ]
  },
  {
   "cell_type": "code",
   "execution_count": 91,
   "metadata": {},
   "outputs": [
    {
     "name": "stdout",
     "output_type": "stream",
     "text": [
      "R2 score: 0.8362099714258072\n",
      "MAPE score: 0.13197809138366734\n",
      "MAE score: 1281.2101858045448\n",
      "MSE score: 3673476.927577371\n"
     ]
    }
   ],
   "source": [
    "y_pred = cat_reg.predict(X_test)\n",
    "\n",
    "print(f'R2 score: {r2_score(y_test, y_pred)}')\n",
    "print(f'MAPE score: {mean_absolute_percentage_error(y_test, y_pred)}')\n",
    "print(f'MAE score: {mean_absolute_error(y_test, y_pred)}')\n",
    "print(f'MSE score: {mean_squared_error(y_test, y_pred)}')\n"
   ]
  },
  {
   "cell_type": "code",
   "execution_count": 92,
   "metadata": {},
   "outputs": [
    {
     "data": {
      "image/png": "[encoded data removed]",
      "text/plain": [
       "<Figure size 720x432 with 1 Axes>"
      ]
     },
     "metadata": {
      "needs_background": "light"
     },
     "output_type": "display_data"
    }
   ],
   "source": [
    "# get feat importances\n",
    "feature_importances = cat_reg.get_feature_importance()\n",
    "feature_names = X_train.columns\n",
    "\n",
    "# Sort the feature importances in descending order and get corresponding feature names\n",
    "sorted_indices = feature_importances.argsort()[::-1]\n",
    "sorted_feature_importances = feature_importances[sorted_indices][:10]  # Select top 10\n",
    "sorted_feature_names = feature_names[sorted_indices][:10]  # Select top 10 feature names\n",
    "\n",
    "# Create a bar plot for the top 10 features\n",
    "plt.figure(figsize=(10, 6))\n",
    "plt.bar(range(len(sorted_feature_importances)), sorted_feature_importances)\n",
    "plt.xticks(range(len(sorted_feature_importances)), sorted_feature_names, rotation=90)\n",
    "plt.xlabel('Features')\n",
    "plt.ylabel('Importance')\n",
    "plt.title('Top 10 Feature Importances in CatBoost Model')\n",
    "plt.show()"
   ]
  },
  {
   "cell_type": "code",
   "execution_count": null,
   "metadata": {},
   "outputs": [],
   "source": []
  }
 ],
 "metadata": {
  "kernelspec": {
   "display_name": "Python 3",
   "language": "python",
   "name": "python3"
  },
  "language_info": {
   "codemirror_mode": {
    "name": "ipython",
    "version": 3
   },
   "file_extension": ".py",
   "mimetype": "text/x-python",
   "name": "python",
   "nbconvert_exporter": "python",
   "pygments_lexer": "ipython3",
   "version": "3.10.4"
  }
 },
 "nbformat": 4,
 "nbformat_minor": 2
}
